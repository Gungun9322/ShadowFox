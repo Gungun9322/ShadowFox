{
 "cells": [
  {
   "cell_type": "code",
   "execution_count": 8,
   "id": "ed946501-ea6d-42e5-b993-3b0ce2dee951",
   "metadata": {},
   "outputs": [
    {
     "name": "stdout",
     "output_type": "stream",
     "text": [
      "Model evaluation on test set: MAE = 2.00, RMSE = 2.79\n",
      "\n",
      "Enter the 5 main details of the house to predict its price:\n"
     ]
    },
    {
     "name": "stdin",
     "output_type": "stream",
     "text": [
      "RM (Average number of rooms per dwelling, typical range 3.5 - 9.0):  4.6\n",
      "LSTAT (% lower status of the population, typical range 1.0 - 35.0):  31.66\n",
      "PTRATIO (Pupil-teacher ratio by town, typical range 12.0 - 22.0):  15\n",
      "CRIM (Per capita crime rate by town, typical range 0.0 - 90.0):  56.8\n",
      "DIS (Weighted distances to employment centers, typical range 1.0 - 12.0):  2.5\n"
     ]
    },
    {
     "name": "stdout",
     "output_type": "stream",
     "text": [
      "\n",
      "Predicted House Price: $15,027.00\n",
      "Note: The predicted price is in US Dollars based on the Boston Housing dataset (values in $1000s).\n"
     ]
    }
   ],
   "source": [
    "# Import libraries\n",
    "import pandas as pd\n",
    "from sklearn.model_selection import train_test_split\n",
    "from sklearn.preprocessing import StandardScaler\n",
    "from sklearn.ensemble import RandomForestRegressor\n",
    "from sklearn.metrics import mean_absolute_error, mean_squared_error\n",
    "import numpy as np\n",
    "\n",
    "# Load dataset\n",
    "file_path = r\"D:\\shadow\\HousingData.csv\"\n",
    "data = pd.read_csv(file_path)\n",
    "\n",
    "# Separate features and target\n",
    "target_column = \"MEDV\"\n",
    "X = data.drop(columns=[target_column])\n",
    "y = data[target_column]\n",
    "\n",
    "# Split into train and test sets\n",
    "X_train, X_test, y_train, y_test = train_test_split(X, y, test_size=0.2, random_state=42)\n",
    "\n",
    "# Scale features\n",
    "scaler = StandardScaler()\n",
    "X_train_scaled = scaler.fit_transform(X_train)\n",
    "X_test_scaled = scaler.transform(X_test)\n",
    "\n",
    "# Train Random Forest model\n",
    "model = RandomForestRegressor(n_estimators=100, random_state=42)\n",
    "model.fit(X_train_scaled, y_train)\n",
    "\n",
    "# Evaluate model\n",
    "y_pred = model.predict(X_test_scaled)\n",
    "mae = mean_absolute_error(y_test, y_pred)\n",
    "rmse = np.sqrt(mean_squared_error(y_test, y_pred))  # Fixed RMSE calculation\n",
    "print(f\"Model evaluation on test set: MAE = {mae:.2f}, RMSE = {rmse:.2f}\\n\")\n",
    "\n",
    "# --- Interactive prediction with 5 main features ---\n",
    "print(\"Enter the 5 main details of the house to predict its price:\")\n",
    "\n",
    "# Default values (mean of dataset)\n",
    "default_values = X.mean()\n",
    "\n",
    "# 5 main features with realistic ranges\n",
    "main_features = {\n",
    "    \"RM\": {\"desc\": \"Average number of rooms per dwelling\", \"range\": (3.5, 9.0)}, \n",
    "    \"LSTAT\": {\"desc\": \"% lower status of the population\", \"range\": (1.0, 35.0)},\n",
    "    \"PTRATIO\": {\"desc\": \"Pupil-teacher ratio by town\", \"range\": (12.0, 22.0)},\n",
    "    \"CRIM\": {\"desc\": \"Per capita crime rate by town\", \"range\": (0.0, 90.0)},\n",
    "    \"DIS\": {\"desc\": \"Weighted distances to employment centers\", \"range\": (1.0, 12.0)}\n",
    "}\n",
    "\n",
    "# Start with default values\n",
    "user_input = default_values.copy()\n",
    "\n",
    "# Ask user to enter 5 main features\n",
    "for col, info in main_features.items():\n",
    "    while True:\n",
    "        try:\n",
    "            val = float(input(f\"{col} ({info['desc']}, typical range {info['range'][0]} - {info['range'][1]}): \"))\n",
    "            if info['range'][0] <= val <= info['range'][1]:\n",
    "                user_input[col] = val\n",
    "                break\n",
    "            else:\n",
    "                print(f\"Please enter a value within the suggested range {info['range']}\")\n",
    "        except ValueError:\n",
    "            print(\"Invalid input! Please enter a number.\")\n",
    "\n",
    "# Convert user input to DataFrame to keep feature names (avoids warning)\n",
    "user_input_df = pd.DataFrame([user_input])\n",
    "\n",
    "# Scale the input\n",
    "user_input_scaled = scaler.transform(user_input_df)\n",
    "\n",
    "# Predict house price\n",
    "predicted_price = model.predict(user_input_scaled)[0]\n",
    "\n",
    "# Convert to full dollars (MEDV is in $1000s)\n",
    "predicted_price_usd = predicted_price * 1000\n",
    "\n",
    "# Display prediction with currency\n",
    "print(f\"\\nPredicted House Price: ${predicted_price_usd:,.2f}\")\n",
    "print(\"Note: The predicted price is in US Dollars based on the Boston Housing dataset (values in $1000s).\")\n"
   ]
  },
  {
   "cell_type": "code",
   "execution_count": null,
   "id": "d3fc1ee7-3824-4504-9a05-d2194e7fe618",
   "metadata": {},
   "outputs": [],
   "source": []
  }
 ],
 "metadata": {
  "kernelspec": {
   "display_name": "Python 3 (ipykernel)",
   "language": "python",
   "name": "python3"
  },
  "language_info": {
   "codemirror_mode": {
    "name": "ipython",
    "version": 3
   },
   "file_extension": ".py",
   "mimetype": "text/x-python",
   "name": "python",
   "nbconvert_exporter": "python",
   "pygments_lexer": "ipython3",
   "version": "3.12.4"
  }
 },
 "nbformat": 4,
 "nbformat_minor": 5
}
