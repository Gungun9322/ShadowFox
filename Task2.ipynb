{
 "cells": [
  {
   "cell_type": "markdown",
   "id": "d2faec0c-267a-4716-a092-9347144f4c4f",
   "metadata": {},
   "source": [
    "### TASK 02"
   ]
  },
  {
   "cell_type": "code",
   "execution_count": 1,
   "id": "fd0d5e65-8076-4605-8f41-627a40993e6f",
   "metadata": {},
   "outputs": [
    {
     "name": "stdout",
     "output_type": "stream",
     "text": [
      "\n",
      "Model Accuracy: 0.7886178861788617\n",
      "\n",
      "Classification Report:\n",
      "               precision    recall  f1-score   support\n",
      "\n",
      "       False       0.84      0.49      0.62        43\n",
      "        True       0.78      0.95      0.85        80\n",
      "\n",
      "    accuracy                           0.79       123\n",
      "   macro avg       0.81      0.72      0.74       123\n",
      "weighted avg       0.80      0.79      0.77       123\n",
      "\n",
      "\n",
      "--- Check Loan Approval ---\n"
     ]
    },
    {
     "name": "stdin",
     "output_type": "stream",
     "text": [
      "Applicant Income:  50000\n",
      "Loan Amount:  234\n",
      "Credit History (1 = good, 0 = bad):  1\n",
      "Education (Graduate/Not Graduate):  graduate\n",
      "Property Area (Urban/Semiurban/Rural):  urban\n"
     ]
    },
    {
     "name": "stdout",
     "output_type": "stream",
     "text": [
      "\n",
      " Loan Approved\n"
     ]
    }
   ],
   "source": [
    "# Loan Approval Prediction \n",
    "import pandas as pd\n",
    "from sklearn.model_selection import train_test_split\n",
    "from sklearn.preprocessing import StandardScaler\n",
    "from sklearn.linear_model import LogisticRegression\n",
    "from sklearn.metrics import accuracy_score, classification_report\n",
    "from sklearn.impute import SimpleImputer\n",
    "\n",
    "# -------------------------------\n",
    "# 1. Load dataset\n",
    "# -------------------------------\n",
    "data = pd.read_csv(\"D:/shadow/loan_prediction.csv\")\n",
    "data.drop('Loan_ID', axis=1, inplace=True)\n",
    "\n",
    "# -------------------------------\n",
    "# 2. Handle missing values\n",
    "# -------------------------------\n",
    "numeric_cols = ['ApplicantIncome', 'LoanAmount', 'Credit_History']\n",
    "categorical_cols = ['Gender', 'Married', 'Dependents', 'Self_Employed', 'Education', 'Property_Area', 'Loan_Status']\n",
    "\n",
    "num_imputer = SimpleImputer(strategy='mean')\n",
    "data[numeric_cols] = num_imputer.fit_transform(data[numeric_cols])\n",
    "\n",
    "cat_imputer = SimpleImputer(strategy='most_frequent')\n",
    "data[categorical_cols] = cat_imputer.fit_transform(data[categorical_cols])\n",
    "\n",
    "# -------------------------------\n",
    "# 3. One-hot encoding\n",
    "# -------------------------------\n",
    "data = pd.get_dummies(data, drop_first=True)\n",
    "\n",
    "# -------------------------------\n",
    "# 4. Select features and target\n",
    "# -------------------------------\n",
    "X = data[['ApplicantIncome', 'LoanAmount', 'Credit_History',\n",
    "          'Education_Not Graduate', 'Property_Area_Semiurban', 'Property_Area_Urban']].copy()\n",
    "y = data['Loan_Status_Y'].copy()\n",
    "\n",
    "# -------------------------------\n",
    "# 5. Feature scaling (safe method)\n",
    "# -------------------------------\n",
    "scaler = StandardScaler()\n",
    "X[['ApplicantIncome', 'LoanAmount', 'Credit_History']] = scaler.fit_transform(\n",
    "    X[['ApplicantIncome', 'LoanAmount', 'Credit_History']]\n",
    ")\n",
    "\n",
    "# -------------------------------\n",
    "# 6. Train-test split\n",
    "# -------------------------------\n",
    "X_train, X_test, y_train, y_test = train_test_split(X, y, test_size=0.2, random_state=42)\n",
    "\n",
    "# -------------------------------\n",
    "# 7. Train model\n",
    "# -------------------------------\n",
    "model = LogisticRegression(max_iter=200, class_weight='balanced')\n",
    "model.fit(X_train, y_train)\n",
    "\n",
    "# -------------------------------\n",
    "# 8. Model evaluation\n",
    "# -------------------------------\n",
    "y_pred = model.predict(X_test)\n",
    "print(\"\\nModel Accuracy:\", accuracy_score(y_test, y_pred))\n",
    "print(\"\\nClassification Report:\\n\", classification_report(y_test, y_pred))\n",
    "\n",
    "# -------------------------------\n",
    "# 9. User input prediction\n",
    "# -------------------------------\n",
    "print(\"\\n--- Check Loan Approval ---\")\n",
    "\n",
    "income = float(input(\"Applicant Income: \"))\n",
    "loan_amt = float(input(\"Loan Amount: \"))\n",
    "credit = int(input(\"Credit History (1 = good, 0 = bad): \"))\n",
    "education = input(\"Education (Graduate/Not Graduate): \").strip()\n",
    "property_area = input(\"Property Area (Urban/Semiurban/Rural): \").strip()\n",
    "\n",
    "# Convert user input into features\n",
    "edu_not_grad = 1 if education.lower() == \"not graduate\" else 0\n",
    "prop_semiurban = 1 if property_area.lower() == \"semiurban\" else 0\n",
    "prop_urban = 1 if property_area.lower() == \"urban\" else 0\n",
    "\n",
    "user_df = pd.DataFrame([[income, loan_amt, credit, edu_not_grad, prop_semiurban, prop_urban]],\n",
    "                       columns=['ApplicantIncome','LoanAmount','Credit_History',\n",
    "                                'Education_Not Graduate','Property_Area_Semiurban','Property_Area_Urban'])\n",
    "\n",
    "# Scale numeric features safely\n",
    "user_df[['ApplicantIncome', 'LoanAmount', 'Credit_History']] = scaler.transform(\n",
    "    user_df[['ApplicantIncome', 'LoanAmount', 'Credit_History']]\n",
    ")\n",
    "\n",
    "# Predict result\n",
    "prediction = model.predict(user_df)[0]\n",
    "\n",
    "if prediction == 1:\n",
    "    print(\"\\n Loan Approved\")\n",
    "else:\n",
    "    print(\"\\n Loan Rejected\")\n"
   ]
  },
  {
   "cell_type": "markdown",
   "id": "818a6c7b-5031-4163-a395-80d26a9bb64c",
   "metadata": {},
   "source": []
  }
 ],
 "metadata": {
  "kernelspec": {
   "display_name": "Python 3 (ipykernel)",
   "language": "python",
   "name": "python3"
  },
  "language_info": {
   "codemirror_mode": {
    "name": "ipython",
    "version": 3
   },
   "file_extension": ".py",
   "mimetype": "text/x-python",
   "name": "python",
   "nbconvert_exporter": "python",
   "pygments_lexer": "ipython3",
   "version": "3.12.4"
  }
 },
 "nbformat": 4,
 "nbformat_minor": 5
}
